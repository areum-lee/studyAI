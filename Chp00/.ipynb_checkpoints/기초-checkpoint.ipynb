{
 "cells": [
  {
   "cell_type": "markdown",
   "metadata": {},
   "source": [
    "### 학습 방법 (scratch, fine-tunning, transfer learning)\n",
    "\n",
    "- scratch\n",
    "\n",
    "    처음부터 (pre-trained weight 사용 없이) 학습하는 것\n",
    "\n",
    "- fine-tuning\n",
    "\n",
    "    이미 생성되어진 모델을 베이스로(pre-trained weight) 해서 새로운 이미지를 학습하는 방법\n",
    "        즉, 기존에 학습되어져 있는 모델을 기반으로 아키텍쳐를 새로운 목적(나의 이미지 데이터에 맞게)변형하고 이미 학습된 모델 Weights로 부터 학습을 업데이트하는 방법\n",
    "\n",
    "- transfer learning\n",
    "    이미 많은 양의 data로 train된 모델을 이용하는 것.\n",
    "\n",
    "    (1) 적은 양의 data가 있다면 : 마지막 layer를 reinitialize 하고 train 시킴. Use Linear Classifier on top layer.\n",
    "\n",
    "    (2) 많은 양의 data가 있다면 : 마지막 Max pooling layer 이후의 모든 FC를 train한다. (fine tuning. fine tuning을 할 때는 기존의 learning rate의 0.1 정도로 하는 것이 매우 좋음.) finetune a few layers.\n",
    "\n",
    "    만약 dataset이 서로 많이 다른데 많은 양의 data 있다면 finetune a large number of layers.\n",
    "\n",
    "    Transfer learning을 하면 FC전의 layer들은 generic하고 FC layer들은 specific하다고 볼 수 있음.\n",
    "\n",
    "\n"
   ]
  },
  {
   "cell_type": "markdown",
   "metadata": {},
   "source": [
    "\n",
    "\n",
    "- 공부 \n",
    "\n",
    "http://yunmap.tistory.com/category/%EA%B0%9C%EB%B0%9C/Deep%20Learning\n",
    "\n",
    "http://goodtogreate.tistory.com/entry/Support-Vector-Machine?category=498275\n",
    "\n",
    "http://eehoeskrap.tistory.com/110?category=587577\n",
    "\n",
    "http://fabj.tistory.com/2?category=672301\n",
    "\n"
   ]
  },
  {
   "cell_type": "code",
   "execution_count": null,
   "metadata": {
    "collapsed": true
   },
   "outputs": [],
   "source": []
  }
 ],
 "metadata": {
  "kernelspec": {
   "display_name": "Python 2",
   "language": "python",
   "name": "python2"
  },
  "language_info": {
   "codemirror_mode": {
    "name": "ipython",
    "version": 2
   },
   "file_extension": ".py",
   "mimetype": "text/x-python",
   "name": "python",
   "nbconvert_exporter": "python",
   "pygments_lexer": "ipython2",
   "version": "2.7.13"
  }
 },
 "nbformat": 4,
 "nbformat_minor": 2
}
