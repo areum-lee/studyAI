{
 "cells": [
  {
   "cell_type": "code",
   "execution_count": 1,
   "metadata": {
    "collapsed": true
   },
   "outputs": [],
   "source": [
    "import torch\n",
    "import numpy as np\n",
    "import matplotlib.pyplot as plt\n",
    "%matplotlib inline\n",
    "\n",
    "from torch.autograd import Variable\n",
    "import torch.nn.functional as F"
   ]
  },
  {
   "cell_type": "markdown",
   "metadata": {},
   "source": [
    "## data load"
   ]
  },
  {
   "cell_type": "code",
   "execution_count": 2,
   "metadata": {
    "collapsed": false
   },
   "outputs": [
    {
     "name": "stdout",
     "output_type": "stream",
     "text": [
      "torch.Size([759, 8])\n",
      "torch.Size([759, 1])\n"
     ]
    }
   ],
   "source": [
    "xy = np.loadtxt('./data/diabetes.csv.gz', delimiter=',', dtype=np.float32)\n",
    "x_data = Variable(torch.from_numpy(xy[:, 0:-1]))\n",
    "y_data = Variable(torch.from_numpy(xy[:, [-1]]))\n",
    "\n",
    "print(x_data.data.shape)\n",
    "print(y_data.data.shape)\n"
   ]
  },
  {
   "cell_type": "markdown",
   "metadata": {},
   "source": [
    "## 레이어 3개 해줄예정"
   ]
  },
  {
   "cell_type": "code",
   "execution_count": null,
   "metadata": {
    "collapsed": false
   },
   "outputs": [],
   "source": [
    "\n",
    "class Model(torch.nn.Module):\n",
    "\n",
    "    def __init__(self):\n",
    "        \"\"\"\n",
    "        In the constructor we instantiate two nn.Linear module\n",
    "        \"\"\"\n",
    "        super(Model, self).__init__()\n",
    "        \n",
    "        # 8이 인풋사이즈, 6이 아웃풋사이즈.\n",
    "        self.l1 = torch.nn.Linear(8, 6)\n",
    "        self.l2 = torch.nn.Linear(6, 4)\n",
    "        \n",
    "        # 그래서 최종 아웃풋은 사이즈 1로\n",
    "        self.l3 = torch.nn.Linear(4, 1)\n",
    "\n",
    "        self.sigmoid = torch.nn.Sigmoid()\n",
    "\n",
    "    def forward(self, x):\n",
    "        \"\"\"\n",
    "        In the forward function we accept a Variable of input data and we must return\n",
    "        a Variable of output data. We can use Modules defined in the constructor as\n",
    "        well as arbitrary operators on Variables.\n",
    "        \"\"\"\n",
    "        out1 = self.sigmoid(self.l1(x))\n",
    "        out2 = self.sigmoid(self.l2(out1))\n",
    "        y_pred = self.sigmoid(self.l3(out2))\n",
    "        return y_pred\n",
    "\n",
    "# our model\n",
    "model = Model()\n",
    "criterion = torch.nn.BCELoss(size_average=True)\n",
    "optimizer = torch.optim.SGD(model.parameters(), lr=0.1)\n",
    "\n",
    "# Training loop\n",
    "for epoch in range(100):\n",
    "        # Forward pass: Compute predicted y by passing x to the model\n",
    "    y_pred = model(x_data)\n",
    "\n",
    "    # Compute and print loss\n",
    "    loss = criterion(y_pred, y_data)\n",
    "    print(epoch, loss.data[0])\n",
    "\n",
    "    # Zero gradients, perform a backward pass, and update the weights.\n",
    "    optimizer.zero_grad()\n",
    "    loss.backward()\n",
    "    optimizer.step()"
   ]
  },
  {
   "cell_type": "markdown",
   "metadata": {},
   "source": [
    "## 연습"
   ]
  },
  {
   "cell_type": "code",
   "execution_count": 13,
   "metadata": {
    "collapsed": false
   },
   "outputs": [],
   "source": [
    "class Model(torch.nn.Module):\n",
    "    def __init__(self):\n",
    "        \n",
    "        ### ???\n",
    "        super(Model, self).__init__()\n",
    "        \n",
    "        self.l1 = torch.nn.Linear(8,6)\n",
    "        self.l2 = torch.nn.Linear(6,4)\n",
    "        self.l3 = torch.nn.Linear(4,1)\n",
    "        self.sigmoid = torch.nn.Sigmoid()\n",
    "    \n",
    "    def forward(self, x):\n",
    "        \n",
    "        ### ????포멧 다시\n",
    "        \n",
    "        out1 = self.sigmoid(self.l1(x))\n",
    "        out2 = self.sigmoid(self.l2(out1))\n",
    "        y_pred = self.sigmoid(self.l3(out2))\n",
    "        return y_pred\n",
    "    \n",
    "  "
   ]
  },
  {
   "cell_type": "code",
   "execution_count": 14,
   "metadata": {
    "collapsed": false
   },
   "outputs": [
    {
     "name": "stdout",
     "output_type": "stream",
     "text": [
      "(0, 0.7516021132469177)\n",
      "(1, 0.7399630546569824)\n",
      "(2, 0.7296154499053955)\n",
      "(3, 0.720418393611908)\n",
      "(4, 0.712244987487793)\n",
      "(5, 0.7049834728240967)\n",
      "(6, 0.6985307931900024)\n",
      "(7, 0.6927973628044128)\n",
      "(8, 0.6877018213272095)\n",
      "(9, 0.6831722855567932)\n",
      "(10, 0.6791453957557678)\n",
      "(11, 0.6755633354187012)\n",
      "(12, 0.6723776459693909)\n",
      "(13, 0.6695427298545837)\n",
      "(14, 0.6670196652412415)\n",
      "(15, 0.6647732853889465)\n",
      "(16, 0.6627723574638367)\n",
      "(17, 0.6609896421432495)\n",
      "(18, 0.6594008207321167)\n",
      "(19, 0.6579837799072266)\n",
      "(20, 0.6567203402519226)\n",
      "(21, 0.6555933952331543)\n",
      "(22, 0.6545873284339905)\n",
      "(23, 0.6536896824836731)\n",
      "(24, 0.6528876423835754)\n",
      "(25, 0.6521714329719543)\n",
      "(26, 0.6515310406684875)\n",
      "(27, 0.6509593725204468)\n",
      "(28, 0.6504480242729187)\n",
      "(29, 0.6499901413917542)\n",
      "(30, 0.6495814919471741)\n",
      "(31, 0.6492151618003845)\n",
      "(32, 0.6488876938819885)\n",
      "(33, 0.6485943794250488)\n",
      "(34, 0.6483320593833923)\n",
      "(35, 0.6480965614318848)\n",
      "(36, 0.6478857398033142)\n",
      "(37, 0.6476972103118896)\n",
      "(38, 0.6475277543067932)\n",
      "(39, 0.6473756432533264)\n",
      "(40, 0.647239625453949)\n",
      "(41, 0.6471176743507385)\n",
      "(42, 0.647007942199707)\n",
      "(43, 0.646909773349762)\n",
      "(44, 0.6468212008476257)\n",
      "(45, 0.6467419266700745)\n",
      "(46, 0.6466708183288574)\n",
      "(47, 0.6466071009635925)\n",
      "(48, 0.6465492844581604)\n",
      "(49, 0.6464975476264954)\n",
      "(50, 0.6464508175849915)\n",
      "(51, 0.6464090943336487)\n",
      "(52, 0.6463716626167297)\n",
      "(53, 0.6463378071784973)\n",
      "(54, 0.646306574344635)\n",
      "(55, 0.6462790966033936)\n",
      "(56, 0.6462545394897461)\n",
      "(57, 0.6462317109107971)\n",
      "(58, 0.6462116241455078)\n",
      "(59, 0.6461933255195618)\n",
      "(60, 0.6461768746376038)\n",
      "(61, 0.646161675453186)\n",
      "(62, 0.6461480259895325)\n",
      "(63, 0.646135151386261)\n",
      "(64, 0.6461238861083984)\n",
      "(65, 0.6461136341094971)\n",
      "(66, 0.6461042165756226)\n",
      "(67, 0.6460959911346436)\n",
      "(68, 0.6460877656936646)\n",
      "(69, 0.6460810303688049)\n",
      "(70, 0.6460742950439453)\n",
      "(71, 0.6460680961608887)\n",
      "(72, 0.6460634469985962)\n",
      "(73, 0.646058201789856)\n",
      "(74, 0.6460533738136292)\n",
      "(75, 0.6460496783256531)\n",
      "(76, 0.646044909954071)\n",
      "(77, 0.6460408568382263)\n",
      "(78, 0.6460371017456055)\n",
      "(79, 0.6460340619087219)\n",
      "(80, 0.6460314989089966)\n",
      "(81, 0.6460283994674683)\n",
      "(82, 0.6460254192352295)\n",
      "(83, 0.6460228562355042)\n",
      "(84, 0.6460199952125549)\n",
      "(85, 0.646018385887146)\n",
      "(86, 0.6460158228874207)\n",
      "(87, 0.6460136771202087)\n",
      "(88, 0.6460117101669312)\n",
      "(89, 0.6460093855857849)\n",
      "(90, 0.6460076570510864)\n",
      "(91, 0.6460051536560059)\n",
      "(92, 0.6460039615631104)\n",
      "(93, 0.646001935005188)\n",
      "(94, 0.6460007429122925)\n",
      "(95, 0.6459989547729492)\n",
      "(96, 0.6459976434707642)\n",
      "(97, 0.6459957361221313)\n",
      "(98, 0.6459943056106567)\n",
      "(99, 0.6459927558898926)\n"
     ]
    }
   ],
   "source": [
    "model=Model()\n",
    "criterion = torch.nn.BCELoss(size_average=True)\n",
    "optimizer = torch.optim.SGD(model.parameters(),lr=0.1)\n",
    "\n",
    "for epoch in range(100):\n",
    "    y_pred = model(x_data)\n",
    "    \n",
    "    loss = criterion(y_pred,y_data)\n",
    "    print(epoch, loss.data[0])\n",
    "    optimizer.zero_grad()\n",
    "    loss.backward()\n",
    "    optimizer.step()\n",
    "    \n",
    "    "
   ]
  },
  {
   "cell_type": "code",
   "execution_count": null,
   "metadata": {
    "collapsed": true
   },
   "outputs": [],
   "source": []
  }
 ],
 "metadata": {
  "kernelspec": {
   "display_name": "Python 3",
   "language": "python",
   "name": "python3"
  },
  "language_info": {
   "codemirror_mode": {
    "name": "ipython",
    "version": 2
   },
   "file_extension": ".py",
   "mimetype": "text/x-python",
   "name": "python",
   "nbconvert_exporter": "python",
   "pygments_lexer": "ipython2",
   "version": "2.7.6"
  }
 },
 "nbformat": 4,
 "nbformat_minor": 1
}
