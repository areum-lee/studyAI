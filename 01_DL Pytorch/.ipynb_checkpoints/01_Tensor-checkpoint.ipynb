{
 "cells": [
  {
   "cell_type": "markdown",
   "metadata": {},
   "source": [
    "## Python Tutorial"
   ]
  },
  {
   "cell_type": "markdown",
   "metadata": {},
   "source": [
    "### List"
   ]
  },
  {
   "cell_type": "code",
   "execution_count": 2,
   "metadata": {
    "collapsed": false
   },
   "outputs": [
    {
     "name": "stdout",
     "output_type": "stream",
     "text": [
      "[1, 2, 3]\n",
      "[1, 2, 3, 4]\n",
      "[1, 2, 3, 4, 'abc']\n",
      "[1, 2, 3, 4]\n",
      "[1, 2, 3]\n"
     ]
    }
   ],
   "source": [
    "list_ex = [1,2,3]\n",
    "print(list_ex)\n",
    "\n",
    "list_ex.append(4)\n",
    "print(list_ex)\n",
    "\n",
    "list_ex.append(\"abc\")\n",
    "print(list_ex)\n",
    "\n",
    "# delete\n",
    "del list_ex[-1]\n",
    "print(list_ex)\n",
    "\n",
    "# delete\n",
    "list_ex.pop()\n",
    "print(list_ex)"
   ]
  },
  {
   "cell_type": "markdown",
   "metadata": {},
   "source": [
    "### Dictionary"
   ]
  },
  {
   "cell_type": "code",
   "execution_count": 4,
   "metadata": {
    "collapsed": false
   },
   "outputs": [
    {
     "name": "stdout",
     "output_type": "stream",
     "text": [
      "{'java': 1, 'python': 0, 'c++': 2, 'html': 4, 'key': 'value', 'ruby': 3}\n",
      "c++의 값 출력\n",
      "2\n",
      "key가 삭제된 dictionary 출력\n",
      "{'java': 1, 'python': 0, 'c++': 2, 'html': 4, 'ruby': 3}\n",
      "pytorch 값이 5인 새로운 값 추가된 dictionary 출력 \n",
      "{'java': 1, 'python': 0, 'c++': 2, 'pytorch': 5, 'html': 4, 'ruby': 3}\n"
     ]
    }
   ],
   "source": [
    "dict_1 = {\n",
    "    \"python\": 0,\n",
    "    \"java\":1,\n",
    "    \"c++\":2,\n",
    "    \"ruby\":3,\n",
    "    \"html\":4,\n",
    "    \"key\":\"value\",\n",
    "}\n",
    "\n",
    "print(dict_1)\n",
    "\n",
    "print (\"c++의 값 출력\")\n",
    "print(dict_1[\"c++\"])\n",
    "\n",
    "\n",
    "del dict_1[\"key\"]\n",
    "print (\"key가 삭제된 dictionary 출력\")\n",
    "print(dict_1)\n",
    "\n",
    "\n",
    "dict_1[\"pytorch\"]=5\n",
    "print (\"pytorch 값이 5인 새로운 값 추가된 dictionary 출력 \")\n",
    "print(dict_1)"
   ]
  },
  {
   "cell_type": "code",
   "execution_count": 6,
   "metadata": {
    "collapsed": false
   },
   "outputs": [
    {
     "name": "stdout",
     "output_type": "stream",
     "text": [
      "{'java': 1, 'python': 0, 'c++': 2, 'pytorch': 5, 'html': 4, 'ruby': 3}\n",
      "not ruby\n",
      "not ruby\n",
      "not ruby\n",
      "not ruby\n",
      "not ruby\n",
      "3\n"
     ]
    }
   ],
   "source": [
    "\n",
    "print(dict_1)\n",
    "for  key in dict_1:\n",
    "    if key==\"ruby\":\n",
    "        print(dict_1[key])\n",
    "    else:\n",
    "        print(\"not ruby\")"
   ]
  },
  {
   "cell_type": "markdown",
   "metadata": {},
   "source": [
    "### Function"
   ]
  },
  {
   "cell_type": "code",
   "execution_count": 7,
   "metadata": {
    "collapsed": false
   },
   "outputs": [
    {
     "name": "stdout",
     "output_type": "stream",
     "text": [
      "120\n"
     ]
    }
   ],
   "source": [
    "def factorial(num):\n",
    "    result = 1\n",
    "    for i in range(1,num+1):\n",
    "        result = result*i\n",
    "    return result\n",
    "\n",
    "print(factorial(5))"
   ]
  },
  {
   "cell_type": "markdown",
   "metadata": {},
   "source": [
    "### Class and objects"
   ]
  },
  {
   "cell_type": "code",
   "execution_count": 8,
   "metadata": {
    "collapsed": false
   },
   "outputs": [
    {
     "name": "stdout",
     "output_type": "stream",
     "text": [
      "Anakin Skywalker\n",
      "R2D2\n",
      "10\n"
     ]
    }
   ],
   "source": [
    "class Jedi(object):\n",
    "    def __init__(self,name,droid):\n",
    "        self.name = name\n",
    "        self.droid = droid\n",
    "        self.exp = 0\n",
    "        \n",
    "    def train(self):\n",
    "        self.exp += 10\n",
    "\n",
    "anakin = Jedi(\"Anakin Skywalker\",\"R2D2\")\n",
    "anakin.train()\n",
    "\n",
    "print(anakin.name)\n",
    "print(anakin.droid)\n",
    "print(anakin.exp)"
   ]
  },
  {
   "cell_type": "markdown",
   "metadata": {},
   "source": [
    "### torch tensor"
   ]
  },
  {
   "cell_type": "code",
   "execution_count": 9,
   "metadata": {
    "collapsed": false
   },
   "outputs": [
    {
     "name": "stdout",
     "output_type": "stream",
     "text": [
      "Variable containing:\n",
      " 0.6790 -0.0512  0.3870 -1.3096\n",
      "-0.3861 -1.3524 -0.2156 -0.0374\n",
      "-0.4750 -0.6645 -0.7106 -0.0523\n",
      "[torch.cuda.FloatTensor of size 3x4 (GPU 0)]\n",
      "\n",
      "Variable containing:\n",
      " 0.7358 -1.6042  1.3100  0.4931\n",
      "-0.6819 -1.1592 -3.0215  1.1391\n",
      "-3.0670  0.3042  2.0560  0.8323\n",
      "[torch.cuda.FloatTensor of size 3x4 (GPU 0)]\n",
      "\n",
      "Variable containing:\n",
      " 1  1  1  1\n",
      " 1  1  1  1\n",
      " 1  1  1  1\n",
      "[torch.cuda.FloatTensor of size 3x4 (GPU 0)]\n",
      "\n",
      "0:00:02.866213\n"
     ]
    }
   ],
   "source": [
    "import torch\n",
    "from torch.autograd import Variable\n",
    "from datetime import datetime\n",
    "start = datetime.now()\n",
    "\n",
    "N,D = 3,4\n",
    "\n",
    "x = Variable(torch.randn(N,D).cuda(),requires_grad=True)\n",
    "y = Variable(torch.randn(N,D).cuda(),requires_grad=True)\n",
    "z = Variable(torch.randn(N,D).cuda(),requires_grad=True)\n",
    "\n",
    "a = x * y\n",
    "b = a + z\n",
    "c = torch.sum(b)\n",
    "\n",
    "c.backward(gradient=torch.cuda.FloatTensor([1.0]))\n",
    "\n",
    "print(x.grad)\n",
    "print(y.grad)\n",
    "print(z.grad)\n",
    "print(datetime.now()-start)"
   ]
  },
  {
   "cell_type": "code",
   "execution_count": 10,
   "metadata": {
    "collapsed": false
   },
   "outputs": [
    {
     "name": "stdout",
     "output_type": "stream",
     "text": [
      "Variable containing:\n",
      " 0.4996  0.0822  0.5069 -0.6457\n",
      " 0.2633  1.5677  0.6515 -0.0426\n",
      " 1.4570 -0.2022 -1.4610 -0.0435\n",
      "[torch.cuda.FloatTensor of size 3x4 (GPU 0)]\n",
      "\n"
     ]
    }
   ],
   "source": [
    "print (a)"
   ]
  },
  {
   "cell_type": "code",
   "execution_count": 11,
   "metadata": {
    "collapsed": false
   },
   "outputs": [
    {
     "name": "stdout",
     "output_type": "stream",
     "text": [
      "Variable containing:\n",
      " 0.4064 -1.2187  1.1356 -0.6894\n",
      " 0.3154  1.4471  0.6655  0.2961\n",
      " 0.9516 -0.7108 -1.6554 -1.1901\n",
      "[torch.cuda.FloatTensor of size 3x4 (GPU 0)]\n",
      "\n"
     ]
    }
   ],
   "source": [
    "print (b)"
   ]
  },
  {
   "cell_type": "code",
   "execution_count": 12,
   "metadata": {
    "collapsed": false
   },
   "outputs": [
    {
     "name": "stdout",
     "output_type": "stream",
     "text": [
      "Variable containing:\n",
      "-0.2466\n",
      "[torch.cuda.FloatTensor of size 1 (GPU 0)]\n",
      "\n"
     ]
    }
   ],
   "source": [
    "print (c)"
   ]
  },
  {
   "cell_type": "markdown",
   "metadata": {},
   "source": [
    "## PyTorch Tensor Basic Usage\n",
    "### 1. Tensor"
   ]
  },
  {
   "cell_type": "code",
   "execution_count": 14,
   "metadata": {
    "collapsed": false
   },
   "outputs": [
    {
     "name": "stdout",
     "output_type": "stream",
     "text": [
      "\n",
      " 0.7887  0.5618  0.5292\n",
      " 0.8744  0.4963  0.3002\n",
      "[torch.FloatTensor of size 2x3]\n",
      "\n"
     ]
    }
   ],
   "source": [
    "x = torch.rand(2,3)\n",
    "print (x)"
   ]
  },
  {
   "cell_type": "code",
   "execution_count": 15,
   "metadata": {
    "collapsed": false
   },
   "outputs": [
    {
     "name": "stdout",
     "output_type": "stream",
     "text": [
      "\n",
      " 3\n",
      " 2\n",
      " 4\n",
      " 1\n",
      " 0\n",
      "[torch.LongTensor of size 5]\n",
      "\n"
     ]
    }
   ],
   "source": [
    "# torch.randperm(n) -> permutation of 0~n\n",
    "x = torch.randperm(5)\n",
    "print (x)"
   ]
  },
  {
   "cell_type": "code",
   "execution_count": 16,
   "metadata": {
    "collapsed": false
   },
   "outputs": [
    {
     "name": "stdout",
     "output_type": "stream",
     "text": [
      "\n",
      " 0.0000\n",
      " 0.5000\n",
      " 1.0000\n",
      " 1.5000\n",
      " 2.0000\n",
      " 2.5000\n",
      "[torch.FloatTensor of size 6]\n",
      "\n"
     ]
    }
   ],
   "source": [
    "# torch.zeros(2,3) -> [[0,0,0],[0,0,0]]\n",
    "x = torch.zeros(2,3)\n",
    "y = torch.ones(2,3)\n",
    "\n",
    "z = torch.arange(0,3,step=0.5)\n",
    "\n",
    "print (z)"
   ]
  },
  {
   "cell_type": "code",
   "execution_count": 17,
   "metadata": {
    "collapsed": false
   },
   "outputs": [
    {
     "name": "stdout",
     "output_type": "stream",
     "text": [
      "\n",
      "-77.8589   0.0000   0.0000\n",
      "  0.0000   0.0000   0.0000\n",
      "[torch.FloatTensor of size 2x3]\n",
      "\n"
     ]
    }
   ],
   "source": [
    "x = torch.FloatTensor(2,3)\n",
    "\n",
    "print (x)"
   ]
  },
  {
   "cell_type": "code",
   "execution_count": 18,
   "metadata": {
    "collapsed": false
   },
   "outputs": [
    {
     "data": {
      "text/plain": [
       "\n",
       "-77   0   0\n",
       "  0   0   0\n",
       "[torch.IntTensor of size 2x3]"
      ]
     },
     "execution_count": 18,
     "metadata": {},
     "output_type": "execute_result"
    }
   ],
   "source": [
    "# tensor.type_as(tensor_type)\n",
    "x = x.type_as(torch.IntTensor())\n",
    "x"
   ]
  },
  {
   "cell_type": "markdown",
   "metadata": {},
   "source": [
    "### 2. Tensor on CPU & GPU"
   ]
  },
  {
   "cell_type": "code",
   "execution_count": 19,
   "metadata": {
    "collapsed": false
   },
   "outputs": [
    {
     "data": {
      "text/plain": [
       "\n",
       " 1  2  3\n",
       " 4  5  6\n",
       "[torch.FloatTensor of size 2x3]"
      ]
     },
     "execution_count": 19,
     "metadata": {},
     "output_type": "execute_result"
    }
   ],
   "source": [
    "x = torch.FloatTensor([[1,2,3],[4,5,6]])\n",
    "x"
   ]
  },
  {
   "cell_type": "code",
   "execution_count": 20,
   "metadata": {
    "collapsed": false
   },
   "outputs": [
    {
     "data": {
      "text/plain": [
       "\n",
       " 1  2  3\n",
       " 4  5  6\n",
       "[torch.cuda.FloatTensor of size 2x3 (GPU 0)]"
      ]
     },
     "execution_count": 20,
     "metadata": {},
     "output_type": "execute_result"
    }
   ],
   "source": [
    "# gpu 에\n",
    "x_gpu = x.cuda()\n",
    "x_gpu"
   ]
  },
  {
   "cell_type": "code",
   "execution_count": 22,
   "metadata": {
    "collapsed": false
   },
   "outputs": [
    {
     "data": {
      "text/plain": [
       "\n",
       " 1  2  3\n",
       " 4  5  6\n",
       "[torch.FloatTensor of size 2x3]"
      ]
     },
     "execution_count": 22,
     "metadata": {},
     "output_type": "execute_result"
    }
   ],
   "source": [
    "# cpu 에\n",
    "x_cpu = x_gpu.cpu()\n",
    "x_cpu"
   ]
  },
  {
   "cell_type": "code",
   "execution_count": 24,
   "metadata": {
    "collapsed": false
   },
   "outputs": [
    {
     "data": {
      "text/plain": [
       "torch.Size([2, 3])"
      ]
     },
     "execution_count": 24,
     "metadata": {},
     "output_type": "execute_result"
    }
   ],
   "source": [
    "x.size()[:]"
   ]
  },
  {
   "cell_type": "code",
   "execution_count": 31,
   "metadata": {
    "collapsed": false
   },
   "outputs": [
    {
     "data": {
      "text/plain": [
       "(\n",
       "  0.2010  0.9649  0.6408\n",
       "  0.7948  0.0163  0.7728\n",
       "  0.3872  0.0789  0.2742\n",
       "  0.0810  0.8081  0.2003\n",
       "  0.4871  0.7145  0.3338\n",
       " [torch.FloatTensor of size 5x3], \n",
       "  0.3872  0.0789  0.2742\n",
       "  0.4871  0.7145  0.3338\n",
       " [torch.FloatTensor of size 2x3])"
      ]
     },
     "execution_count": 31,
     "metadata": {},
     "output_type": "execute_result"
    }
   ],
   "source": [
    "# torch.index_select(input, dim, index)\n",
    "\n",
    "x = torch.rand(5,3)\n",
    "out = torch.index_select(x,0,torch.LongTensor([2,4]))\n",
    "\n",
    "x,out"
   ]
  },
  {
   "cell_type": "code",
   "execution_count": 32,
   "metadata": {
    "collapsed": false
   },
   "outputs": [
    {
     "data": {
      "text/plain": [
       "(\n",
       "  0.2010\n",
       "  0.7948\n",
       "  0.3872\n",
       "  0.0810\n",
       "  0.4871\n",
       " [torch.FloatTensor of size 5], \n",
       "  0.2010\n",
       "  0.9649\n",
       "  0.6408\n",
       " [torch.FloatTensor of size 3], \n",
       "  0.2010  0.9649\n",
       "  0.7948  0.0163\n",
       " [torch.FloatTensor of size 2x2])"
      ]
     },
     "execution_count": 32,
     "metadata": {},
     "output_type": "execute_result"
    }
   ],
   "source": [
    "# pythonic indexing also works\n",
    "\n",
    "x[:,0],x[0,:],x[0:2,0:2]"
   ]
  },
  {
   "cell_type": "code",
   "execution_count": 34,
   "metadata": {
    "collapsed": false
   },
   "outputs": [
    {
     "data": {
      "text/plain": [
       "(\n",
       "  0.5494  0.6644 -0.1592\n",
       " -1.1765 -0.4623  0.6224\n",
       " [torch.FloatTensor of size 2x3], \n",
       "  0  1  0\n",
       "  0  1  0\n",
       " [torch.ByteTensor of size 2x3], \n",
       "  0.6644\n",
       " -0.4623\n",
       " [torch.FloatTensor of size 2])"
      ]
     },
     "execution_count": 34,
     "metadata": {},
     "output_type": "execute_result"
    }
   ],
   "source": [
    "# torch.masked_select(input, mask)\n",
    "\n",
    "x = torch.randn(2,3)\n",
    "mask = torch.ByteTensor([[0,1,0],[0,1,0]])\n",
    "out = torch.masked_select(x,mask)\n",
    "\n",
    "x, mask, out"
   ]
  },
  {
   "cell_type": "markdown",
   "metadata": {},
   "source": [
    "### 3. joining"
   ]
  },
  {
   "cell_type": "code",
   "execution_count": 35,
   "metadata": {
    "collapsed": false
   },
   "outputs": [
    {
     "data": {
      "text/plain": [
       "(\n",
       "  1  2  3\n",
       "  4  5  6\n",
       " [torch.FloatTensor of size 2x3], \n",
       " -1 -2 -3\n",
       " -4 -5 -6\n",
       " [torch.FloatTensor of size 2x3], \n",
       "  1  2  3\n",
       "  4  5  6\n",
       " -1 -2 -3\n",
       " -4 -5 -6\n",
       " [torch.FloatTensor of size 4x3], \n",
       "  1  2  3 -1 -2 -3\n",
       "  4  5  6 -4 -5 -6\n",
       " [torch.FloatTensor of size 2x6])"
      ]
     },
     "execution_count": 35,
     "metadata": {},
     "output_type": "execute_result"
    }
   ],
   "source": [
    "# torch.cat(seq, dim=0) -> concatenate tensor along dim\n",
    "\n",
    "x = torch.FloatTensor([[1,2,3],[4,5,6]])\n",
    "y = torch.FloatTensor([[-1,-2,-3],[-4,-5,-6]])\n",
    "\n",
    "# dim 0은 아래로 / dim 1 은 옆으로\n",
    "z1 = torch.cat([x,y],dim=0)\n",
    "z2 = torch.cat([x,y],dim=1)\n",
    "\n",
    "x,y,z1,z2"
   ]
  },
  {
   "cell_type": "code",
   "execution_count": 36,
   "metadata": {
    "collapsed": false
   },
   "outputs": [
    {
     "data": {
      "text/plain": [
       "(\n",
       "  1  2  3\n",
       "  4  5  6\n",
       " -1 -2 -3\n",
       " -4 -5 -6\n",
       " [torch.FloatTensor of size 4x3], \n",
       "  1  2  3\n",
       "  4  5  6\n",
       " [torch.FloatTensor of size 2x3], \n",
       " -1 -2 -3\n",
       " -4 -5 -6\n",
       " [torch.FloatTensor of size 2x3], \n",
       "  1  2  3\n",
       "  4  5  6\n",
       " -1 -2 -3\n",
       " -4 -5 -6\n",
       " [torch.FloatTensor of size 4x3], \n",
       "  1\n",
       "  4\n",
       " -1\n",
       " -4\n",
       " [torch.FloatTensor of size 4x1], \n",
       "  2\n",
       "  5\n",
       " -2\n",
       " -5\n",
       " [torch.FloatTensor of size 4x1], \n",
       "  3\n",
       "  6\n",
       " -3\n",
       " -6\n",
       " [torch.FloatTensor of size 4x1])"
      ]
     },
     "execution_count": 36,
     "metadata": {},
     "output_type": "execute_result"
    }
   ],
   "source": [
    "# 행렬 자르기\n",
    "# torch.chunk(tensor, chunks, dim=0) -> tensor into num chunks# torch. \n",
    "\n",
    "# 아래로 자르기\n",
    "x_1, x_2 = torch.chunk(z1,2,dim=0)\n",
    "\n",
    "# 옆으로 자르기\n",
    "y_1, y_2, y_3 = torch.chunk(z1,3,dim=1)\n",
    "\n",
    "z1,x_1,x_2,z1,y_1,y_2,y_3"
   ]
  },
  {
   "cell_type": "markdown",
   "metadata": {},
   "source": [
    "### 4. squeezing"
   ]
  },
  {
   "cell_type": "code",
   "execution_count": 37,
   "metadata": {
    "collapsed": false
   },
   "outputs": [
    {
     "data": {
      "text/plain": [
       "(torch.Size([10, 1, 3, 1, 4]), torch.Size([10, 3, 4]))"
      ]
     },
     "execution_count": 37,
     "metadata": {},
     "output_type": "execute_result"
    }
   ],
   "source": [
    "# torch.squeeze(input,dim=None) -> reduce dim by 1\n",
    "# 차원이 1인 건 줄임.\n",
    "x1 = torch.FloatTensor(10,1,3,1,4)\n",
    "\n",
    "x2 = torch.squeeze(x1)\n",
    "\n",
    "x1.size(),x2.size()"
   ]
  },
  {
   "cell_type": "code",
   "execution_count": 38,
   "metadata": {
    "collapsed": false
   },
   "outputs": [
    {
     "data": {
      "text/plain": [
       "(torch.Size([10, 3, 4]), torch.Size([1, 10, 3, 4]))"
      ]
     },
     "execution_count": 38,
     "metadata": {},
     "output_type": "execute_result"
    }
   ],
   "source": [
    "# torch.unsqueeze(input,dim=None) -> add dim by 1\n",
    "\n",
    "x1 = torch.FloatTensor(10,3,4)\n",
    "\n",
    "# 차원 1을 0번째에 추가\n",
    "x2 = torch.unsqueeze(x1,dim=0)\n",
    "\n",
    "x1.size(),x2.size()"
   ]
  },
  {
   "cell_type": "code",
   "execution_count": 40,
   "metadata": {
    "collapsed": false
   },
   "outputs": [
    {
     "data": {
      "text/plain": [
       "(torch.Size([10, 3, 4]), torch.Size([10, 3, 1, 4]))"
      ]
     },
     "execution_count": 40,
     "metadata": {},
     "output_type": "execute_result"
    }
   ],
   "source": [
    "# torch.unsqueeze(input,dim=None) -> add dim by 1\n",
    "\n",
    "x1 = torch.FloatTensor(10,3,4)\n",
    "\n",
    "# 차원 1을 2번째에 추가\n",
    "x2 = torch.unsqueeze(x1,dim=2)\n",
    "\n",
    "x1.size(),x2.size()"
   ]
  },
  {
   "cell_type": "markdown",
   "metadata": {},
   "source": [
    "### 5. Math"
   ]
  },
  {
   "cell_type": "code",
   "execution_count": 42,
   "metadata": {
    "collapsed": false
   },
   "outputs": [
    {
     "name": "stdout",
     "output_type": "stream",
     "text": [
      "\n",
      "  2   4   6\n",
      "  8  10  12\n",
      "[torch.FloatTensor of size 2x3]\n",
      "\n",
      "\n",
      "  1   4   9\n",
      " 16  25  36\n",
      "[torch.FloatTensor of size 2x3]\n",
      "\n",
      "\n",
      " 10  20  30\n",
      " 40  50  60\n",
      "[torch.FloatTensor of size 2x3]\n",
      "\n",
      "\n",
      " 1  1  1\n",
      " 1  1  1\n",
      "[torch.FloatTensor of size 2x3]\n",
      "\n",
      "\n",
      " 0.2000  0.4000  0.6000\n",
      " 0.8000  1.0000  1.2000\n",
      "[torch.FloatTensor of size 2x3]\n",
      "\n"
     ]
    }
   ],
   "source": [
    "# torch.add()\n",
    "\n",
    "x1 = torch.FloatTensor([[1,2,3],[4,5,6]])\n",
    "x2 = torch.FloatTensor([[1,2,3],[4,5,6]])\n",
    "add = torch.add(x1,x2)\n",
    "mul = torch.mul(x1,x2)\n",
    "mul2 = x1 * 10\n",
    "div = torch.div(x1,x2)\n",
    "div2= x1/5\n",
    "\n",
    "print (add)\n",
    "print (mul)\n",
    "print (mul2)\n",
    "print (div)\n",
    "print (div2)"
   ]
  },
  {
   "cell_type": "code",
   "execution_count": null,
   "metadata": {
    "collapsed": true
   },
   "outputs": [],
   "source": []
  },
  {
   "cell_type": "code",
   "execution_count": null,
   "metadata": {
    "collapsed": true
   },
   "outputs": [],
   "source": []
  },
  {
   "cell_type": "code",
   "execution_count": null,
   "metadata": {
    "collapsed": true
   },
   "outputs": [],
   "source": []
  },
  {
   "cell_type": "code",
   "execution_count": null,
   "metadata": {
    "collapsed": true
   },
   "outputs": [],
   "source": []
  },
  {
   "cell_type": "code",
   "execution_count": null,
   "metadata": {
    "collapsed": true
   },
   "outputs": [],
   "source": []
  },
  {
   "cell_type": "code",
   "execution_count": null,
   "metadata": {
    "collapsed": true
   },
   "outputs": [],
   "source": []
  },
  {
   "cell_type": "code",
   "execution_count": null,
   "metadata": {
    "collapsed": true
   },
   "outputs": [],
   "source": []
  },
  {
   "cell_type": "code",
   "execution_count": null,
   "metadata": {
    "collapsed": true
   },
   "outputs": [],
   "source": []
  },
  {
   "cell_type": "code",
   "execution_count": null,
   "metadata": {
    "collapsed": true
   },
   "outputs": [],
   "source": []
  },
  {
   "cell_type": "code",
   "execution_count": null,
   "metadata": {
    "collapsed": true
   },
   "outputs": [],
   "source": []
  },
  {
   "cell_type": "code",
   "execution_count": null,
   "metadata": {
    "collapsed": true
   },
   "outputs": [],
   "source": []
  }
 ],
 "metadata": {
  "kernelspec": {
   "display_name": "Python 3",
   "language": "python",
   "name": "python3"
  },
  "language_info": {
   "codemirror_mode": {
    "name": "ipython",
    "version": 2
   },
   "file_extension": ".py",
   "mimetype": "text/x-python",
   "name": "python",
   "nbconvert_exporter": "python",
   "pygments_lexer": "ipython2",
   "version": "2.7.6"
  }
 },
 "nbformat": 4,
 "nbformat_minor": 1
}
