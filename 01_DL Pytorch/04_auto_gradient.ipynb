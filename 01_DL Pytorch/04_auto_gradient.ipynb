{
 "cells": [
  {
   "cell_type": "code",
   "execution_count": 5,
   "metadata": {
    "collapsed": true
   },
   "outputs": [],
   "source": [
    "import torch\n",
    "import numpy as np\n",
    "import matplotlib.pyplot as plt\n",
    "%matplotlib inline\n",
    "\n",
    "from torch.autograd import Variable"
   ]
  },
  {
   "cell_type": "code",
   "execution_count": 6,
   "metadata": {
    "collapsed": false
   },
   "outputs": [
    {
     "name": "stdout",
     "output_type": "stream",
     "text": [
      "('predict (before training)', 4, 4.0)\n",
      "('\\tgrad: ', 1.0, 2.0, -2.0)\n",
      "('\\tgrad: ', 2.0, 4.0, -7.840000152587891)\n",
      "('\\tgrad: ', 3.0, 6.0, -16.228801727294922)\n",
      "('progress:', 0, 7.315943717956543)\n",
      "('\\tgrad: ', 1.0, 2.0, -1.478623867034912)\n",
      "('\\tgrad: ', 2.0, 4.0, -5.796205520629883)\n",
      "('\\tgrad: ', 3.0, 6.0, -11.998146057128906)\n",
      "('progress:', 1, 3.9987640380859375)\n",
      "('\\tgrad: ', 1.0, 2.0, -1.0931644439697266)\n",
      "('\\tgrad: ', 2.0, 4.0, -4.285204887390137)\n",
      "('\\tgrad: ', 3.0, 6.0, -8.870372772216797)\n",
      "('progress:', 2, 2.1856532096862793)\n",
      "('\\tgrad: ', 1.0, 2.0, -0.8081896305084229)\n",
      "('\\tgrad: ', 2.0, 4.0, -3.1681032180786133)\n",
      "('\\tgrad: ', 3.0, 6.0, -6.557973861694336)\n",
      "('progress:', 3, 1.1946394443511963)\n",
      "('\\tgrad: ', 1.0, 2.0, -0.5975041389465332)\n",
      "('\\tgrad: ', 2.0, 4.0, -2.3422164916992188)\n",
      "('\\tgrad: ', 3.0, 6.0, -4.848389625549316)\n",
      "('progress:', 4, 0.6529689431190491)\n",
      "('\\tgrad: ', 1.0, 2.0, -0.4417421817779541)\n",
      "('\\tgrad: ', 2.0, 4.0, -1.7316293716430664)\n",
      "('\\tgrad: ', 3.0, 6.0, -3.58447265625)\n",
      "('progress:', 5, 0.35690122842788696)\n",
      "('\\tgrad: ', 1.0, 2.0, -0.3265852928161621)\n",
      "('\\tgrad: ', 2.0, 4.0, -1.2802143096923828)\n",
      "('\\tgrad: ', 3.0, 6.0, -2.650045394897461)\n",
      "('progress:', 6, 0.195076122879982)\n",
      "('\\tgrad: ', 1.0, 2.0, -0.24144840240478516)\n",
      "('\\tgrad: ', 2.0, 4.0, -0.9464778900146484)\n",
      "('\\tgrad: ', 3.0, 6.0, -1.9592113494873047)\n",
      "('progress:', 7, 0.10662525147199631)\n",
      "('\\tgrad: ', 1.0, 2.0, -0.17850565910339355)\n",
      "('\\tgrad: ', 2.0, 4.0, -0.699742317199707)\n",
      "('\\tgrad: ', 3.0, 6.0, -1.4484672546386719)\n",
      "('progress:', 8, 0.0582793727517128)\n",
      "('\\tgrad: ', 1.0, 2.0, -0.1319713592529297)\n",
      "('\\tgrad: ', 2.0, 4.0, -0.5173273086547852)\n",
      "('\\tgrad: ', 3.0, 6.0, -1.070866584777832)\n",
      "('progress:', 9, 0.03185431286692619)\n",
      "('predict (after training)', 4, 7.804864406585693)\n"
     ]
    }
   ],
   "source": [
    "x_data = [1.0, 2.0, 3.0]\n",
    "y_data = [2.0, 4.0, 6.0]\n",
    "\n",
    "w = Variable(torch.Tensor([1.0]),  requires_grad=True)  # Any random value\n",
    "def forward(x):\n",
    "    return x * w\n",
    "\n",
    "# Loss function\n",
    "\n",
    "\n",
    "def loss(x, y):\n",
    "    y_pred = forward(x)\n",
    "    return (y_pred - y) * (y_pred - y)\n",
    "\n",
    "# Before training\n",
    "print(\"predict (before training)\",  4, forward(4).data[0])\n",
    "\n",
    "# Training loop\n",
    "for epoch in range(10):\n",
    "    for x_val, y_val in zip(x_data, y_data):\n",
    "        l = loss(x_val, y_val)\n",
    "        # backward 함수가 모든 gradient를 계산\n",
    "        \n",
    "        l.backward()\n",
    "        \n",
    "        print(\"\\tgrad: \", x_val, y_val, w.grad.data[0])\n",
    "        \n",
    "        # 웨이트 updating\n",
    "        \n",
    "        w.data = w.data - 0.01 * w.grad.data\n",
    "\n",
    "        # Manually zero the gradients after updating weights\n",
    "        w.grad.data.zero_()\n",
    "\n",
    "    print(\"progress:\", epoch, l.data[0])\n",
    "\n",
    "# After training\n",
    "print(\"predict (after training)\",  4, forward(4).data[0])"
   ]
  },
  {
   "cell_type": "code",
   "execution_count": 7,
   "metadata": {
    "collapsed": false
   },
   "outputs": [
    {
     "name": "stdout",
     "output_type": "stream",
     "text": [
      "('grad', 1.0, 2.0, -2.0)\n",
      "('grad', 2.0, 4.0, -7.840000152587891)\n",
      "('grad', 3.0, 6.0, -16.228801727294922)\n",
      "('profress ', 0, 7.315943717956543)\n",
      "('grad', 1.0, 2.0, -1.478623867034912)\n",
      "('grad', 2.0, 4.0, -5.796205520629883)\n",
      "('grad', 3.0, 6.0, -11.998146057128906)\n",
      "('profress ', 1, 3.9987640380859375)\n",
      "('grad', 1.0, 2.0, -1.0931644439697266)\n",
      "('grad', 2.0, 4.0, -4.285204887390137)\n",
      "('grad', 3.0, 6.0, -8.870372772216797)\n",
      "('profress ', 2, 2.1856532096862793)\n",
      "('grad', 1.0, 2.0, -0.8081896305084229)\n",
      "('grad', 2.0, 4.0, -3.1681032180786133)\n",
      "('grad', 3.0, 6.0, -6.557973861694336)\n",
      "('profress ', 3, 1.1946394443511963)\n",
      "('grad', 1.0, 2.0, -0.5975041389465332)\n",
      "('grad', 2.0, 4.0, -2.3422164916992188)\n",
      "('grad', 3.0, 6.0, -4.848389625549316)\n",
      "('profress ', 4, 0.6529689431190491)\n",
      "('grad', 1.0, 2.0, -0.4417421817779541)\n",
      "('grad', 2.0, 4.0, -1.7316293716430664)\n",
      "('grad', 3.0, 6.0, -3.58447265625)\n",
      "('profress ', 5, 0.35690122842788696)\n",
      "('grad', 1.0, 2.0, -0.3265852928161621)\n",
      "('grad', 2.0, 4.0, -1.2802143096923828)\n",
      "('grad', 3.0, 6.0, -2.650045394897461)\n",
      "('profress ', 6, 0.195076122879982)\n",
      "('grad', 1.0, 2.0, -0.24144840240478516)\n",
      "('grad', 2.0, 4.0, -0.9464778900146484)\n",
      "('grad', 3.0, 6.0, -1.9592113494873047)\n",
      "('profress ', 7, 0.10662525147199631)\n",
      "('grad', 1.0, 2.0, -0.17850565910339355)\n",
      "('grad', 2.0, 4.0, -0.699742317199707)\n",
      "('grad', 3.0, 6.0, -1.4484672546386719)\n",
      "('profress ', 8, 0.0582793727517128)\n",
      "('grad', 1.0, 2.0, -0.1319713592529297)\n",
      "('grad', 2.0, 4.0, -0.5173273086547852)\n",
      "('grad', 3.0, 6.0, -1.070866584777832)\n",
      "('profress ', 9, 0.03185431286692619)\n"
     ]
    }
   ],
   "source": [
    "w = Variable(torch.Tensor([1.0]),requires_grad=True)\n",
    "\n",
    "for epoch in range(10):\n",
    "    for x_val, y_val in zip(x_data, y_data):\n",
    "        l = loss(x_val,y_val)\n",
    "        l.backward()\n",
    "        \n",
    "        print (\"grad\" , x_val, y_val, w.grad.data[0])\n",
    "        w.data = w.data - 0.01 * w.grad.data\n",
    "        \n",
    "        # zero로 바꿔줌.\n",
    "        w.grad.data.zero_()\n",
    "    print (\"profress \" , epoch, l.data[0])"
   ]
  },
  {
   "cell_type": "code",
   "execution_count": null,
   "metadata": {
    "collapsed": true
   },
   "outputs": [],
   "source": []
  },
  {
   "cell_type": "code",
   "execution_count": null,
   "metadata": {
    "collapsed": true
   },
   "outputs": [],
   "source": []
  }
 ],
 "metadata": {
  "kernelspec": {
   "display_name": "Python 3",
   "language": "python",
   "name": "python3"
  },
  "language_info": {
   "codemirror_mode": {
    "name": "ipython",
    "version": 2
   },
   "file_extension": ".py",
   "mimetype": "text/x-python",
   "name": "python",
   "nbconvert_exporter": "python",
   "pygments_lexer": "ipython2",
   "version": "2.7.6"
  }
 },
 "nbformat": 4,
 "nbformat_minor": 1
}
