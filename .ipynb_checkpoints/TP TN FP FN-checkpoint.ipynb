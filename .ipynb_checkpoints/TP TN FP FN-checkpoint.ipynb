{
 "cells": [
  {
   "cell_type": "markdown",
   "metadata": {},
   "source": [
    "\n",
    " \n",
    "             실험 결과 양성   실험 결과 음성\n",
    "             \n",
    "실제 양성          TP            FN\n",
    "\n",
    "실제 음성          FP            TN\n",
    " \n",
    "\n",
    "true positive는 결과가 positive이면서 실제 사실과 맞으니까 true이다. 그래서 tp...\n",
    "\n",
    "true negative는 결과가 negative이면서 실제 사실과 맞으니까 true이다. 그래서 tn...\n",
    "\n",
    "false positive는 결과가 positive인데, 잘못된 결과 도출이다. 그래서 fp...\n",
    "\n",
    "false negative는 결과가 negative인데, 잘못된 결과 도출이다. 그래서 fn...\n",
    "\n",
    " \n",
    "sensitivity및 specificity, ppv, npv 계산은 다음과 같다.\n",
    " \n",
    "sensitivity= Recall : 질병이 있는 환자에서 검사를 통해 질병이 있음을 가려낼 수 있는 능력\n",
    "TP / (TP+FN)  X  100\n",
    " \n",
    "specificity : 질병이 없는 환자에서 검사를 통해 질병이 없음을 가려낼 수 있는 능력\n",
    "TN / (TN+FP) X 100\n",
    " s\n",
    "positive predictive value(양성 예측치) = Precision : 질병이 있음을 가려낼 수 있는 가능성에 대한 예측도\n",
    "TP / (TP+FP) X 100\n",
    " \n",
    "negative predictive value(음성 예측치) : 질병이 없음을 가려낼 수 있는 가능성에 대한 예측도\n",
    "TN / (TN+FN) X 100\n",
    " \n",
    "Accuracy = (TP + TN) / (TP + TN + FP + FN)\n"
   ]
  },
  {
   "cell_type": "markdown",
   "metadata": {},
   "source": [
    "ROC curve = Precision/Recall curves"
   ]
  },
  {
   "cell_type": "code",
   "execution_count": null,
   "metadata": {
    "collapsed": true
   },
   "outputs": [],
   "source": []
  }
 ],
 "metadata": {
  "kernelspec": {
   "display_name": "Python 3",
   "language": "python",
   "name": "python3"
  },
  "language_info": {
   "codemirror_mode": {
    "name": "ipython",
    "version": 3
   },
   "file_extension": ".py",
   "mimetype": "text/x-python",
   "name": "python",
   "nbconvert_exporter": "python",
   "pygments_lexer": "ipython3",
   "version": "3.6.0"
  }
 },
 "nbformat": 4,
 "nbformat_minor": 2
}
